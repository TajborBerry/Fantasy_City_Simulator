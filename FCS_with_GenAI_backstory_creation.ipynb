{
 "cells": [
  {
   "cell_type": "code",
   "execution_count": 1,
   "id": "1c7060d6",
   "metadata": {},
   "outputs": [],
   "source": [
    "#This is Fantasy city simulator"
   ]
  },
  {
   "cell_type": "code",
   "execution_count": null,
   "id": "39220518",
   "metadata": {},
   "outputs": [],
   "source": [
    "#importing packages\n",
    "import numpy as np\n",
    "import random\n",
    "import names\n",
    "import matplotlib.pyplot as plt"
   ]
  },
  {
   "cell_type": "code",
   "execution_count": 2,
   "id": "e7d85c48",
   "metadata": {},
   "outputs": [],
   "source": [
    "#citizen definition\n",
    "class Citizen:\n",
    "    def __init__(self, l, parent = \"God\", FirstName = \"Kurt\" , FamilyName = \"Coban\", gender = \"female\"):\n",
    "        self.str = l[0]\n",
    "        self.dex = l[1]\n",
    "        self.con = l[2]\n",
    "        self.int = l[3]\n",
    "        self.wis = l[4]\n",
    "        self.cha = l[5]\n",
    "        self.l= l\n",
    "        self.childlist = []\n",
    "        self.parent = parent\n",
    "        self.FirstName = FirstName\n",
    "        self.FamilyName = FamilyName\n",
    "        self.partner = None\n",
    "        self.relationship = False\n",
    "        self.married = False\n",
    "        self.gender = gender\n",
    "    def statblock(self):\n",
    "        print(\" Strength: \" + str(self.str) \n",
    "        + \"\\n Dexterity: \" + str(self.dex)\n",
    "        + \"\\n Constituion: \" + str(self.con)\n",
    "        + \"\\n Intelligence: \" + str(self.int)\n",
    "        + \"\\n Wisdom: \" + str(self.wis)\n",
    "        + \"\\n Charisma: \" + str(self.cha))\n",
    "    def childlistadd(self,child):\n",
    "        self.childlist.append(child)\n",
    "    def __str__(self):\n",
    "        return str(self.FirstName)+ \" \" + str(self.FamilyName)\n",
    "    def print(self):\n",
    "        return str(self.FirstName)+ \" \" + str(self.FamilyName)\n",
    "    def selectmate(self,c1,married = False):\n",
    "        self.partner = c1\n",
    "        c1.partner = self\n",
    "        self.relationship = True\n",
    "        c1.relationship = True\n",
    "        if married:\n",
    "            self.married = True\n",
    "            c1.married = True\n",
    "    def mating(self,c1):\n",
    "        if self.relationship:\n",
    "            indices = random.sample(range(len(c1.l)),int(len(c1.l)/2))\n",
    "            newpeepo = c1.l.copy()\n",
    "            for i in range(int(len(c1.l))):\n",
    "                if i in indices:\n",
    "                    newpeepo[i]= self.l[i]\n",
    "            child = Citizen(newpeepo,parent=[c1.print(),self.print()], FamilyName = self.FamilyName)        \n",
    "            self.childlistadd(child)\n",
    "            c1.childlistadd(child)\n",
    "            return child\n"
   ]
  },
  {
   "cell_type": "code",
   "execution_count": 3,
   "id": "502b7500",
   "metadata": {},
   "outputs": [
    {
     "name": "stdout",
     "output_type": "stream",
     "text": [
      "female\n",
      "female\n"
     ]
    }
   ],
   "source": [
    "def random_citizen(femaleprop = 0.5):\n",
    "    mu, sigma = 10, 1 # mean and standard deviation\n",
    "    l = np.random.normal(mu, sigma, 6)\n",
    "    l = [round(x) for x in l]\n",
    "    if random.random() < femaleprop:\n",
    "        gender = \"female\"\n",
    "    else:\n",
    "        gender = \"male\"\n",
    "    FirstName = names.get_first_name(gender=gender)\n",
    "    FamilyName = names.get_last_name()\n",
    "    citizenlist.append(Citizen(l,FirstName= FirstName, FamilyName= FamilyName,gender=gender))\n",
    "\n",
    "\n",
    "citizenlist = []\n",
    "l = [10,12,8,10,12,8]\n",
    "\n",
    "c1 = Citizen(l,FirstName= \"David\", FamilyName= \"Duhlo\")\n",
    "\n",
    "l = [11,11,11,11,11,11]\n",
    "\n",
    "c2 = Citizen(l,FirstName= \"Daniella\", FamilyName= \"Weiler\")\n",
    "citizenlist = [c1,c2]\n",
    "\n",
    "[print(x.gender) for x in citizenlist]\n",
    "\n",
    "def creating_citizen():\n",
    "    l=[]\n",
    "    l.append(input(\"Enter strength:\"))\n",
    "    l.append(input(\"Enter dexterity:\"))\n",
    "    l.append(input(\"Enter constitution:\"))\n",
    "    l.append(input(\"Enter intelligence:\"))\n",
    "    l.append(input(\"Enter wisdom:\"))\n",
    "    l.append(input(\"Enter charisma:\"))\n",
    "    FirstName= input(\"Enter First Name:\")\n",
    "    FamilyName= input(\"Enter Last Name:\")\n",
    "    gender = input(\"Enter gender:\")\n",
    "    citizenlist.append(Citizen(l,FirstName= FirstName, FamilyName= FamilyName, gender = gender))\n",
    "    "
   ]
  },
  {
   "cell_type": "code",
   "execution_count": 2,
   "id": "3e129790",
   "metadata": {},
   "outputs": [],
   "source": [
    "#citizen definition simplified\n",
    "class Citizen:\n",
    "    def __init__(self, l,gen = 1):\n",
    "        self.str = l[0]\n",
    "        self.dex = l[1]\n",
    "        self.con = l[2]\n",
    "        self.int = l[3]\n",
    "        self.wis = l[4]\n",
    "        self.cha = l[5]\n",
    "        self.l= l\n",
    "        self.partner = None\n",
    "        self.gen = gen\n",
    "    def statblock(self):\n",
    "        print(\" Strength: \" + str(round(self.str)) \n",
    "        + \"\\n Dexterity: \" + str(round(self.dex))\n",
    "        + \"\\n Constituion: \" + str(round(self.con))\n",
    "        + \"\\n Intelligence: \" + str(round(self.int))\n",
    "        + \"\\n Wisdom: \" + str(round(self.wis))\n",
    "        + \"\\n Charisma: \" + str(round(self.cha)))\n",
    "    def selectmate(self,c):\n",
    "        self.partner = c\n",
    "    def printmate(self):\n",
    "        return self.partner"
   ]
  },
  {
   "cell_type": "code",
   "execution_count": 3,
   "id": "e5bd1a25",
   "metadata": {},
   "outputs": [],
   "source": [
    "def random_citizen(femaleprop = 0.5):\n",
    "    mu, sigma = 10, 1 # mean and standard deviation\n",
    "    l = np.random.normal(mu, sigma, 6)\n",
    "    l = [round(x) for x in l]\n",
    "    FamilyName = names.get_last_name()\n",
    "    citizenlist.append(Citizen(l))"
   ]
  },
  {
   "cell_type": "code",
   "execution_count": 16,
   "id": "107e2534",
   "metadata": {},
   "outputs": [],
   "source": [
    "citizenlist = []\n",
    "for i in range(10000):\n",
    "    random_citizen()"
   ]
  },
  {
   "cell_type": "code",
   "execution_count": 17,
   "id": "4e093bc9",
   "metadata": {},
   "outputs": [],
   "source": [
    "generations = 20\n",
    "for i in range(generations):\n",
    "    #print(i)\n",
    "    no_partner_people = [x for x in citizenlist if x.printmate() == None]\n",
    "    if len(no_partner_people) % 2 != 0:\n",
    "        no_partner_people = no_partner_people[:-1]\n",
    "    l1 = random.sample(no_partner_people, len(no_partner_people) // 2)\n",
    "\n",
    "    l2 = [x for x in no_partner_people if x not in l1]\n",
    "    random.shuffle(l1)\n",
    "    random.shuffle(l2)\n",
    "    for k in range(len(l1)):\n",
    "        l1[k].selectmate(l2[k])\n",
    "        l2[k].selectmate(l1[k])\n",
    "        new_statblock = []\n",
    "        for n in range(6):\n",
    "            mutation_strength = 0.05\n",
    "            new_stat_value = (l1[k].l[n]+(l2[k].l[n]))/2 + np.random.normal(0, mutation_strength,1)[0]\n",
    "            new_statblock.append(new_stat_value)\n",
    "    \n",
    "        citizenlist.append(Citizen(new_statblock, gen = i+2))\n",
    "    "
   ]
  },
  {
   "cell_type": "code",
   "execution_count": 18,
   "id": "3dbf9700",
   "metadata": {},
   "outputs": [
    {
     "data": {
      "text/plain": [
       "1"
      ]
     },
     "execution_count": 18,
     "metadata": {},
     "output_type": "execute_result"
    }
   ],
   "source": [
    "citizenlist[1998].gen"
   ]
  },
  {
   "cell_type": "code",
   "execution_count": 19,
   "id": "00fb1cb8",
   "metadata": {},
   "outputs": [
    {
     "name": "stdout",
     "output_type": "stream",
     "text": [
      " Strength: 9\n",
      " Dexterity: 10\n",
      " Constituion: 10\n",
      " Intelligence: 10\n",
      " Wisdom: 9\n",
      " Charisma: 9\n"
     ]
    }
   ],
   "source": [
    "citizenlist[186].statblock()"
   ]
  },
  {
   "cell_type": "code",
   "execution_count": 21,
   "id": "4f2a3272",
   "metadata": {},
   "outputs": [],
   "source": [
    "mean_stat = []\n",
    "for i in range(1,generations+1):\n",
    "     mean_stat.append(np.mean([x.l[0] for x in citizenlist if x.gen == i]))\n",
    "    \n"
   ]
  },
  {
   "cell_type": "code",
   "execution_count": null,
   "id": "5f7b7c11",
   "metadata": {},
   "outputs": [
    {
     "data": {
      "image/png": "[encoded data removed]",
      "text/plain": [
       "<Figure size 720x360 with 1 Axes>"
      ]
     },
     "metadata": {
      "needs_background": "light"
     },
     "output_type": "display_data"
    }
   ],
   "source": [
    "plt.figure(figsize=(10, 5))\n",
    "plt.plot(range(1, generations+1), mean_stat, marker='o', linestyle='-')\n",
    "plt.xlabel(\"Generation\")\n",
    "plt.ylabel(\"Average Strength score\")\n",
    "plt.title(\"Strength score Evolution Over Generations\")\n",
    "plt.grid()\n",
    "plt.show()"
   ]
  },
  {
   "cell_type": "code",
   "execution_count": 23,
   "id": "b440e974",
   "metadata": {},
   "outputs": [
    {
     "data": {
      "text/plain": [
       "[10.0028,\n",
       " 10.00331471772552,\n",
       " 10.003924256906805,\n",
       " 10.00284733889314,\n",
       " 10.003228492768592,\n",
       " 9.99825017687679,\n",
       " 9.999646484723707,\n",
       " 10.011067369196601,\n",
       " 10.019062311527676,\n",
       " 10.015122645579476,\n",
       " 10.00780747425797,\n",
       " 9.96908697166376,\n",
       " 9.992983429249056,\n",
       " 10.136280534314652,\n",
       " 10.061693389743262,\n",
       " nan,\n",
       " nan,\n",
       " nan,\n",
       " nan,\n",
       " nan]"
      ]
     },
     "execution_count": 23,
     "metadata": {},
     "output_type": "execute_result"
    }
   ],
   "source": [
    "mean_stat"
   ]
  },
  {
   "cell_type": "code",
   "execution_count": null,
   "id": "d98b36c5",
   "metadata": {},
   "outputs": [],
   "source": []
  },
  {
   "cell_type": "code",
   "execution_count": 19,
   "id": "1cbf60f3",
   "metadata": {},
   "outputs": [
    {
     "name": "stdout",
     "output_type": "stream",
     "text": [
      "Requirement already satisfied: openai in c:\\users\\tajbo\\anaconda3\\lib\\site-packages (0.28.0)Note: you may need to restart the kernel to use updated packages.\n",
      "Requirement already satisfied: aiohttp in c:\\users\\tajbo\\anaconda3\\lib\\site-packages (from openai) (3.8.1)\n",
      "Requirement already satisfied: requests>=2.20 in c:\\users\\tajbo\\anaconda3\\lib\\site-packages (from openai) (2.27.1)\n",
      "Requirement already satisfied: tqdm in c:\\users\\tajbo\\anaconda3\\lib\\site-packages (from openai) (4.64.0)\n",
      "Requirement already satisfied: certifi>=2017.4.17 in c:\\users\\tajbo\\anaconda3\\lib\\site-packages (from requests>=2.20->openai) (2021.10.8)\n",
      "Requirement already satisfied: idna<4,>=2.5 in c:\\users\\tajbo\\anaconda3\\lib\\site-packages (from requests>=2.20->openai) (3.3)\n",
      "Requirement already satisfied: urllib3<1.27,>=1.21.1 in c:\\users\\tajbo\\anaconda3\\lib\\site-packages (from requests>=2.20->openai) (1.26.9)\n",
      "Requirement already satisfied: charset-normalizer~=2.0.0 in c:\\users\\tajbo\\anaconda3\\lib\\site-packages (from requests>=2.20->openai) (2.0.4)\n",
      "Requirement already satisfied: async-timeout<5.0,>=4.0.0a3 in c:\\users\\tajbo\\anaconda3\\lib\\site-packages (from aiohttp->openai) (4.0.1)\n",
      "Requirement already satisfied: yarl<2.0,>=1.0 in c:\\users\\tajbo\\anaconda3\\lib\\site-packages (from aiohttp->openai) (1.6.3)\n",
      "Requirement already satisfied: frozenlist>=1.1.1 in c:\\users\\tajbo\\anaconda3\\lib\\site-packages (from aiohttp->openai) (1.2.0)\n",
      "Requirement already satisfied: attrs>=17.3.0 in c:\\users\\tajbo\\anaconda3\\lib\\site-packages (from aiohttp->openai) (21.4.0)\n",
      "Requirement already satisfied: multidict<7.0,>=4.5 in c:\\users\\tajbo\\anaconda3\\lib\\site-packages (from aiohttp->openai) (5.1.0)\n",
      "Requirement already satisfied: aiosignal>=1.1.2 in c:\\users\\tajbo\\anaconda3\\lib\\site-packages (from aiohttp->openai) (1.2.0)\n",
      "Requirement already satisfied: typing-extensions>=3.6.5 in c:\\users\\tajbo\\anaconda3\\lib\\site-packages (from async-timeout<5.0,>=4.0.0a3->aiohttp->openai) (4.12.2)\n",
      "Requirement already satisfied: colorama in c:\\users\\tajbo\\anaconda3\\lib\\site-packages (from tqdm->openai) (0.4.4)\n",
      "\n"
     ]
    }
   ],
   "source": [
    "pip install openai"
   ]
  },
  {
   "cell_type": "code",
   "execution_count": 26,
   "id": "daab6bb5",
   "metadata": {},
   "outputs": [],
   "source": [
    "import openai"
   ]
  },
  {
   "cell_type": "code",
   "execution_count": null,
   "id": "2da68db3",
   "metadata": {},
   "outputs": [],
   "source": [
    "openai.api_key = \"\""
   ]
  },
  {
   "cell_type": "code",
   "execution_count": 28,
   "id": "8702f8a3",
   "metadata": {},
   "outputs": [],
   "source": [
    "prompt = \"Does this work?\""
   ]
  },
  {
   "cell_type": "code",
   "execution_count": null,
   "id": "0ea1285c",
   "metadata": {},
   "outputs": [
    {
     "name": "stdout",
     "output_type": "stream",
     "text": [
      "Of course! I'd be happy to help you create a backstory for your D&D NPC. Just let me know the character's name, race, class, and any other relevant details you'd like to include.\n"
     ]
    }
   ],
   "source": [
    "response = openai.ChatCompletion.create(\n",
    "    model=\"gpt-3.5-turbo\",\n",
    "    messages=[{\"role\": \"system\", \"content\": \"You are a creative assistant helping to generate D&D NPC backstories.\"},\n",
    "              {\"role\": \"user\", \"content\": prompt}],\n",
    "    temperature=0.7 \n",
    ")\n",
    "\n",
    "\n",
    "print(response[\"choices\"][0][\"message\"][\"content\"])"
   ]
  },
  {
   "cell_type": "code",
   "execution_count": null,
   "id": "34abc8a6",
   "metadata": {},
   "outputs": [],
   "source": []
  }
 ],
 "metadata": {
  "kernelspec": {
   "display_name": "Python 3 (ipykernel)",
   "language": "python",
   "name": "python3"
  },
  "language_info": {
   "codemirror_mode": {
    "name": "ipython",
    "version": 3
   },
   "file_extension": ".py",
   "mimetype": "text/x-python",
   "name": "python",
   "nbconvert_exporter": "python",
   "pygments_lexer": "ipython3",
   "version": "3.9.12"
  }
 },
 "nbformat": 4,
 "nbformat_minor": 5
}
